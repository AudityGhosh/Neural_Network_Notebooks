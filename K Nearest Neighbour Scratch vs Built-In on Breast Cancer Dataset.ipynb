{
 "cells": [
  {
   "cell_type": "markdown",
   "id": "fabe4ddc",
   "metadata": {},
   "source": [
    "## Implement K Nearest Neighbour From Scratch and Compare with the Built-in Applying on Breast Cancer Dataset\n",
    "\n",
    "\n",
    "\n",
    "Audity Ghosh\n",
    "<br>CSE, RUET\n",
    "\n",
    "#### Objectives:\n",
    "- Implement KNN with Python\n",
    "- How KNN works?\n",
    "- SKlearn KNN\n",
    "- Comparison using accuracy\n",
    "\n",
    "\n",
    "\n",
    "#### References:\n",
    "[1] Implement KNN from scratch https://machinelearningmastery.com/tutorial-to-implement-k-nearest-neighbors-in-python-from-scratch/\n"
   ]
  },
  {
   "cell_type": "markdown",
   "id": "55e44562",
   "metadata": {},
   "source": [
    "### Import libraries"
   ]
  },
  {
   "cell_type": "code",
   "execution_count": 146,
   "id": "72384d2c",
   "metadata": {},
   "outputs": [],
   "source": [
    "import numpy as np\n",
    "import pandas as pd\n",
    "from math import sqrt\n",
    "from sklearn.neighbors import KNeighborsClassifier\n",
    "from sklearn.model_selection import train_test_split\n",
    "from sklearn import metrics"
   ]
  },
  {
   "cell_type": "markdown",
   "id": "15984fcd",
   "metadata": {},
   "source": [
    "#### set K"
   ]
  },
  {
   "cell_type": "code",
   "execution_count": 147,
   "id": "395b2a9e",
   "metadata": {},
   "outputs": [],
   "source": [
    "K_of_Knn = 5"
   ]
  },
  {
   "cell_type": "markdown",
   "id": "30660de7",
   "metadata": {},
   "source": [
    "### Load data, Breast Cancer Wisconsin (Diagnostic) Data Set , Benign=0, Malignent = 1, Two Classes"
   ]
  },
  {
   "cell_type": "code",
   "execution_count": 148,
   "id": "4d2832ae",
   "metadata": {},
   "outputs": [
    {
     "data": {
      "text/html": [
       "<div>\n",
       "<style scoped>\n",
       "    .dataframe tbody tr th:only-of-type {\n",
       "        vertical-align: middle;\n",
       "    }\n",
       "\n",
       "    .dataframe tbody tr th {\n",
       "        vertical-align: top;\n",
       "    }\n",
       "\n",
       "    .dataframe thead th {\n",
       "        text-align: right;\n",
       "    }\n",
       "</style>\n",
       "<table border=\"1\" class=\"dataframe\">\n",
       "  <thead>\n",
       "    <tr style=\"text-align: right;\">\n",
       "      <th></th>\n",
       "      <th>diagnosis</th>\n",
       "      <th>symmetry_worst</th>\n",
       "      <th>fractal_dimension_worst</th>\n",
       "    </tr>\n",
       "  </thead>\n",
       "  <tbody>\n",
       "    <tr>\n",
       "      <th>0</th>\n",
       "      <td>M</td>\n",
       "      <td>0.4601</td>\n",
       "      <td>0.11890</td>\n",
       "    </tr>\n",
       "    <tr>\n",
       "      <th>1</th>\n",
       "      <td>M</td>\n",
       "      <td>0.2750</td>\n",
       "      <td>0.08902</td>\n",
       "    </tr>\n",
       "    <tr>\n",
       "      <th>2</th>\n",
       "      <td>M</td>\n",
       "      <td>0.3613</td>\n",
       "      <td>0.08758</td>\n",
       "    </tr>\n",
       "    <tr>\n",
       "      <th>3</th>\n",
       "      <td>M</td>\n",
       "      <td>0.6638</td>\n",
       "      <td>0.17300</td>\n",
       "    </tr>\n",
       "    <tr>\n",
       "      <th>4</th>\n",
       "      <td>M</td>\n",
       "      <td>0.2364</td>\n",
       "      <td>0.07678</td>\n",
       "    </tr>\n",
       "  </tbody>\n",
       "</table>\n",
       "</div>"
      ],
      "text/plain": [
       "  diagnosis  symmetry_worst  fractal_dimension_worst\n",
       "0         M          0.4601                  0.11890\n",
       "1         M          0.2750                  0.08902\n",
       "2         M          0.3613                  0.08758\n",
       "3         M          0.6638                  0.17300\n",
       "4         M          0.2364                  0.07678"
      ]
     },
     "execution_count": 148,
     "metadata": {},
     "output_type": "execute_result"
    }
   ],
   "source": [
    "data =  pd.read_csv(\"Breast_Cancer_Dataset.csv\")\n",
    "data.head()"
   ]
  },
  {
   "cell_type": "markdown",
   "id": "cb014a67",
   "metadata": {},
   "source": [
    "#### move diagnosis column to the last"
   ]
  },
  {
   "cell_type": "code",
   "execution_count": 149,
   "id": "07f5a5fc",
   "metadata": {},
   "outputs": [
    {
     "data": {
      "text/html": [
       "<div>\n",
       "<style scoped>\n",
       "    .dataframe tbody tr th:only-of-type {\n",
       "        vertical-align: middle;\n",
       "    }\n",
       "\n",
       "    .dataframe tbody tr th {\n",
       "        vertical-align: top;\n",
       "    }\n",
       "\n",
       "    .dataframe thead th {\n",
       "        text-align: right;\n",
       "    }\n",
       "</style>\n",
       "<table border=\"1\" class=\"dataframe\">\n",
       "  <thead>\n",
       "    <tr style=\"text-align: right;\">\n",
       "      <th></th>\n",
       "      <th>symmetry_worst</th>\n",
       "      <th>fractal_dimension_worst</th>\n",
       "      <th>diagnosis</th>\n",
       "    </tr>\n",
       "  </thead>\n",
       "  <tbody>\n",
       "    <tr>\n",
       "      <th>0</th>\n",
       "      <td>0.4601</td>\n",
       "      <td>0.11890</td>\n",
       "      <td>M</td>\n",
       "    </tr>\n",
       "    <tr>\n",
       "      <th>1</th>\n",
       "      <td>0.2750</td>\n",
       "      <td>0.08902</td>\n",
       "      <td>M</td>\n",
       "    </tr>\n",
       "    <tr>\n",
       "      <th>2</th>\n",
       "      <td>0.3613</td>\n",
       "      <td>0.08758</td>\n",
       "      <td>M</td>\n",
       "    </tr>\n",
       "    <tr>\n",
       "      <th>3</th>\n",
       "      <td>0.6638</td>\n",
       "      <td>0.17300</td>\n",
       "      <td>M</td>\n",
       "    </tr>\n",
       "    <tr>\n",
       "      <th>4</th>\n",
       "      <td>0.2364</td>\n",
       "      <td>0.07678</td>\n",
       "      <td>M</td>\n",
       "    </tr>\n",
       "  </tbody>\n",
       "</table>\n",
       "</div>"
      ],
      "text/plain": [
       "   symmetry_worst  fractal_dimension_worst diagnosis\n",
       "0          0.4601                  0.11890         M\n",
       "1          0.2750                  0.08902         M\n",
       "2          0.3613                  0.08758         M\n",
       "3          0.6638                  0.17300         M\n",
       "4          0.2364                  0.07678         M"
      ]
     },
     "execution_count": 149,
     "metadata": {},
     "output_type": "execute_result"
    }
   ],
   "source": [
    "data = data.reindex(columns = [col for col in data.columns if col != 'diagnosis'] + ['diagnosis'])\n",
    "data.head()"
   ]
  },
  {
   "cell_type": "code",
   "execution_count": 150,
   "id": "420908cb",
   "metadata": {},
   "outputs": [
    {
     "data": {
      "text/plain": [
       "(569, 3)"
      ]
     },
     "execution_count": 150,
     "metadata": {},
     "output_type": "execute_result"
    }
   ],
   "source": [
    "data.shape"
   ]
  },
  {
   "cell_type": "markdown",
   "id": "b254162a",
   "metadata": {},
   "source": [
    "#### Drop null columns"
   ]
  },
  {
   "cell_type": "code",
   "execution_count": 151,
   "id": "df11dce5",
   "metadata": {},
   "outputs": [
    {
     "data": {
      "text/html": [
       "<div>\n",
       "<style scoped>\n",
       "    .dataframe tbody tr th:only-of-type {\n",
       "        vertical-align: middle;\n",
       "    }\n",
       "\n",
       "    .dataframe tbody tr th {\n",
       "        vertical-align: top;\n",
       "    }\n",
       "\n",
       "    .dataframe thead th {\n",
       "        text-align: right;\n",
       "    }\n",
       "</style>\n",
       "<table border=\"1\" class=\"dataframe\">\n",
       "  <thead>\n",
       "    <tr style=\"text-align: right;\">\n",
       "      <th></th>\n",
       "      <th>symmetry_worst</th>\n",
       "      <th>fractal_dimension_worst</th>\n",
       "      <th>diagnosis</th>\n",
       "    </tr>\n",
       "  </thead>\n",
       "  <tbody>\n",
       "    <tr>\n",
       "      <th>0</th>\n",
       "      <td>0.4601</td>\n",
       "      <td>0.11890</td>\n",
       "      <td>M</td>\n",
       "    </tr>\n",
       "    <tr>\n",
       "      <th>1</th>\n",
       "      <td>0.2750</td>\n",
       "      <td>0.08902</td>\n",
       "      <td>M</td>\n",
       "    </tr>\n",
       "    <tr>\n",
       "      <th>2</th>\n",
       "      <td>0.3613</td>\n",
       "      <td>0.08758</td>\n",
       "      <td>M</td>\n",
       "    </tr>\n",
       "    <tr>\n",
       "      <th>3</th>\n",
       "      <td>0.6638</td>\n",
       "      <td>0.17300</td>\n",
       "      <td>M</td>\n",
       "    </tr>\n",
       "    <tr>\n",
       "      <th>4</th>\n",
       "      <td>0.2364</td>\n",
       "      <td>0.07678</td>\n",
       "      <td>M</td>\n",
       "    </tr>\n",
       "  </tbody>\n",
       "</table>\n",
       "</div>"
      ],
      "text/plain": [
       "   symmetry_worst  fractal_dimension_worst diagnosis\n",
       "0          0.4601                  0.11890         M\n",
       "1          0.2750                  0.08902         M\n",
       "2          0.3613                  0.08758         M\n",
       "3          0.6638                  0.17300         M\n",
       "4          0.2364                  0.07678         M"
      ]
     },
     "execution_count": 151,
     "metadata": {},
     "output_type": "execute_result"
    }
   ],
   "source": [
    "data = data.dropna(axis=1,inplace=False)\n",
    "data.head()"
   ]
  },
  {
   "cell_type": "code",
   "execution_count": 152,
   "id": "0394942e",
   "metadata": {},
   "outputs": [
    {
     "data": {
      "text/plain": [
       "(569, 3)"
      ]
     },
     "execution_count": 152,
     "metadata": {},
     "output_type": "execute_result"
    }
   ],
   "source": [
    "data.shape"
   ]
  },
  {
   "cell_type": "code",
   "execution_count": 153,
   "id": "a6f335b0",
   "metadata": {},
   "outputs": [
    {
     "name": "stdout",
     "output_type": "stream",
     "text": [
      "<class 'pandas.core.frame.DataFrame'>\n",
      "RangeIndex: 569 entries, 0 to 568\n",
      "Data columns (total 3 columns):\n",
      " #   Column                   Non-Null Count  Dtype  \n",
      "---  ------                   --------------  -----  \n",
      " 0   symmetry_worst           569 non-null    float64\n",
      " 1   fractal_dimension_worst  569 non-null    float64\n",
      " 2   diagnosis                569 non-null    object \n",
      "dtypes: float64(2), object(1)\n",
      "memory usage: 13.5+ KB\n"
     ]
    }
   ],
   "source": [
    "data.info()"
   ]
  },
  {
   "cell_type": "code",
   "execution_count": 154,
   "id": "07125bf0",
   "metadata": {},
   "outputs": [
    {
     "data": {
      "text/html": [
       "<div>\n",
       "<style scoped>\n",
       "    .dataframe tbody tr th:only-of-type {\n",
       "        vertical-align: middle;\n",
       "    }\n",
       "\n",
       "    .dataframe tbody tr th {\n",
       "        vertical-align: top;\n",
       "    }\n",
       "\n",
       "    .dataframe thead th {\n",
       "        text-align: right;\n",
       "    }\n",
       "</style>\n",
       "<table border=\"1\" class=\"dataframe\">\n",
       "  <thead>\n",
       "    <tr style=\"text-align: right;\">\n",
       "      <th></th>\n",
       "      <th>symmetry_worst</th>\n",
       "      <th>fractal_dimension_worst</th>\n",
       "    </tr>\n",
       "  </thead>\n",
       "  <tbody>\n",
       "    <tr>\n",
       "      <th>count</th>\n",
       "      <td>569.000000</td>\n",
       "      <td>569.000000</td>\n",
       "    </tr>\n",
       "    <tr>\n",
       "      <th>mean</th>\n",
       "      <td>0.290076</td>\n",
       "      <td>0.083946</td>\n",
       "    </tr>\n",
       "    <tr>\n",
       "      <th>std</th>\n",
       "      <td>0.061867</td>\n",
       "      <td>0.018061</td>\n",
       "    </tr>\n",
       "    <tr>\n",
       "      <th>min</th>\n",
       "      <td>0.156500</td>\n",
       "      <td>0.055040</td>\n",
       "    </tr>\n",
       "    <tr>\n",
       "      <th>25%</th>\n",
       "      <td>0.250400</td>\n",
       "      <td>0.071460</td>\n",
       "    </tr>\n",
       "    <tr>\n",
       "      <th>50%</th>\n",
       "      <td>0.282200</td>\n",
       "      <td>0.080040</td>\n",
       "    </tr>\n",
       "    <tr>\n",
       "      <th>75%</th>\n",
       "      <td>0.317900</td>\n",
       "      <td>0.092080</td>\n",
       "    </tr>\n",
       "    <tr>\n",
       "      <th>max</th>\n",
       "      <td>0.663800</td>\n",
       "      <td>0.207500</td>\n",
       "    </tr>\n",
       "  </tbody>\n",
       "</table>\n",
       "</div>"
      ],
      "text/plain": [
       "       symmetry_worst  fractal_dimension_worst\n",
       "count      569.000000               569.000000\n",
       "mean         0.290076                 0.083946\n",
       "std          0.061867                 0.018061\n",
       "min          0.156500                 0.055040\n",
       "25%          0.250400                 0.071460\n",
       "50%          0.282200                 0.080040\n",
       "75%          0.317900                 0.092080\n",
       "max          0.663800                 0.207500"
      ]
     },
     "execution_count": 154,
     "metadata": {},
     "output_type": "execute_result"
    }
   ],
   "source": [
    "data.describe()"
   ]
  },
  {
   "cell_type": "markdown",
   "id": "b2e02560",
   "metadata": {},
   "source": [
    "#### Replace Benign with 0, Malignent with 1"
   ]
  },
  {
   "cell_type": "code",
   "execution_count": 155,
   "id": "b51e2ed2",
   "metadata": {},
   "outputs": [],
   "source": [
    "data['diagnosis'] = data['diagnosis'].replace(['B', 'M'], [0, 1])"
   ]
  },
  {
   "cell_type": "code",
   "execution_count": 156,
   "id": "4f7b7c15",
   "metadata": {},
   "outputs": [
    {
     "data": {
      "text/plain": [
       "0    357\n",
       "1    212\n",
       "Name: diagnosis, dtype: int64"
      ]
     },
     "execution_count": 156,
     "metadata": {},
     "output_type": "execute_result"
    }
   ],
   "source": [
    "data['diagnosis'].value_counts()"
   ]
  },
  {
   "cell_type": "markdown",
   "id": "bdb5807e",
   "metadata": {},
   "source": [
    "#### Convert dataframe to 2D List"
   ]
  },
  {
   "cell_type": "code",
   "execution_count": 157,
   "id": "bf1def35",
   "metadata": {},
   "outputs": [],
   "source": [
    "df = data"
   ]
  },
  {
   "cell_type": "code",
   "execution_count": 158,
   "id": "fffce33c",
   "metadata": {},
   "outputs": [],
   "source": [
    "data = data.values.tolist()"
   ]
  },
  {
   "cell_type": "markdown",
   "id": "0d1bb382",
   "metadata": {},
   "source": [
    "### Function to calculate the Manhattan distance between two rows"
   ]
  },
  {
   "cell_type": "code",
   "execution_count": 159,
   "id": "782b05fd",
   "metadata": {},
   "outputs": [],
   "source": [
    "\n",
    "def manhattan_distance(row1, row2):\n",
    "    distance = 0.0\n",
    "    for i in range(len(row1)-1):\n",
    "        distance += abs(row1[i] - row2[i])\n",
    "    return distance"
   ]
  },
  {
   "cell_type": "markdown",
   "id": "049cc819",
   "metadata": {},
   "source": [
    "### Function to calculate the Eucildian distance between two rows"
   ]
  },
  {
   "cell_type": "code",
   "execution_count": 160,
   "id": "833d7336",
   "metadata": {},
   "outputs": [],
   "source": [
    "def euclidean_distance(row1, row2):\n",
    "    distance = 0.0\n",
    "    for i in range(len(row1)-1):\n",
    "        \n",
    "        distance += (row1[i] - row2[i])**2\n",
    "    return sqrt(distance)\n",
    " "
   ]
  },
  {
   "cell_type": "markdown",
   "id": "aa9226ac",
   "metadata": {},
   "source": [
    "### Locate the closest neighbors"
   ]
  },
  {
   "cell_type": "code",
   "execution_count": 161,
   "id": "14e54578",
   "metadata": {},
   "outputs": [],
   "source": [
    "\n",
    "def get_neighbors(train, test_row, K):\n",
    "    \n",
    "    distances = []\n",
    "    \n",
    "    for train_row in train:\n",
    "        dist = manhattan_distance(test_row, train_row)\n",
    "        distances.append((train_row, dist)) # get all distances from the test row to all train samples \n",
    "        \n",
    "    distances.sort(key=lambda tup: tup[1]) # sort by distance increasingly\n",
    "    \n",
    "    neighbors = []\n",
    "    for i in range(K): # choose only k closest neighbours \n",
    "        neighbors.append(distances[i][0])\n",
    "        \n",
    "    return neighbors"
   ]
  },
  {
   "cell_type": "code",
   "execution_count": 162,
   "id": "9edc9bd2",
   "metadata": {},
   "outputs": [
    {
     "name": "stdout",
     "output_type": "stream",
     "text": [
      "1.0\n",
      "1.0\n",
      "1.0\n",
      "1.0\n",
      "1.0\n"
     ]
    }
   ],
   "source": [
    "# test of k closest neighbours' labels \n",
    "neighbors = get_neighbors(data, data[0], K_of_Knn)\n",
    "for neighbor in neighbors:\n",
    "    print(neighbor[-1])\n",
    "    #print(neighbor)"
   ]
  },
  {
   "cell_type": "markdown",
   "id": "cb268e60",
   "metadata": {},
   "source": [
    "### prediction with the closest neighbors"
   ]
  },
  {
   "cell_type": "code",
   "execution_count": 163,
   "id": "d0735672",
   "metadata": {},
   "outputs": [],
   "source": [
    "\n",
    "def predict_classification(train, test_row, num_neighbors):\n",
    "    neighbors = get_neighbors(train, test_row, num_neighbors) # k closest neighbours \n",
    "    output_values = [row[-1] for row in neighbors] # their labels \n",
    "    #print(output_values)\n",
    "    prediction = max(set(output_values), key=output_values.count) # which label is maximum in population among k neighbours\n",
    "    return prediction"
   ]
  },
  {
   "cell_type": "code",
   "execution_count": 164,
   "id": "ea978609",
   "metadata": {},
   "outputs": [
    {
     "name": "stdout",
     "output_type": "stream",
     "text": [
      "Desired Output 1, Actual Output 1.\n"
     ]
    }
   ],
   "source": [
    "prediction = predict_classification(data, data[5], K_of_Knn)\n",
    "print('Desired Output %d, Actual Output %d.' % (data[0][-1], prediction))"
   ]
  },
  {
   "cell_type": "code",
   "execution_count": 165,
   "id": "84d39217",
   "metadata": {},
   "outputs": [
    {
     "data": {
      "text/plain": [
       "569"
      ]
     },
     "execution_count": 165,
     "metadata": {},
     "output_type": "execute_result"
    }
   ],
   "source": [
    "len(data)"
   ]
  },
  {
   "cell_type": "markdown",
   "id": "b41acc02",
   "metadata": {},
   "source": [
    "## Split and Predict "
   ]
  },
  {
   "cell_type": "code",
   "execution_count": 166,
   "id": "caddf9ca",
   "metadata": {},
   "outputs": [],
   "source": [
    "def split_predict_compare(train_percent,test_percent):\n",
    "    \n",
    "    no_of_train_samples = int(len(data)*train_percent*0.01)\n",
    "    no_of_test_samples = int(len(data)*test_percent*0.01)\n",
    "    #print(no_of_train_samples,no_of_test_samples)\n",
    "    \n",
    "    #train = data[:no_of_train_samples]\n",
    "    #test = data[-no_of_test_samples:]\n",
    "    \n",
    "    \n",
    "    #print(test)\n",
    "    \n",
    "    train = df.sample(frac = train_percent/100,random_state = 42).values.tolist()\n",
    "    \n",
    "    test = []\n",
    "    for row in data:\n",
    "        if row not in train:\n",
    "            test.append(row)\n",
    "    \n",
    "    \n",
    "    \n",
    "    \n",
    "    ## Manual KNN\n",
    "    TP,TN,FP,FN = 0,0,0,0\n",
    "    \n",
    "    for row in test:\n",
    "        prediction = predict_classification(train, row, K_of_Knn)\n",
    "        #print('Desired Output %d, Actual Output %d.' % (row[-1], prediction))\n",
    "        if(row[-1]==1 and prediction==1):\n",
    "            TP+=1\n",
    "        elif(row[-1]==0 and prediction==0):\n",
    "            TN+=1\n",
    "        elif(row[-1]==0 and prediction==1):\n",
    "            FP+=1\n",
    "        else:\n",
    "            FN+=1\n",
    "            \n",
    "            \n",
    "    \n",
    "    #print(TP,TN,FP,FN)\n",
    "    accuracy = (TP+TN)/(TP+TN+FP+FN)\n",
    "    \n",
    "    print(f\"Using {train_percent}% train and {test_percent}% test with KNN raw code is\", accuracy)\n",
    "    \n",
    "    \n",
    "    \n",
    "    \n",
    "    \n",
    "    \n",
    "    ## Built-In KNN \n",
    "    \n",
    "    if(test_percent!=0):\n",
    "        \n",
    "        ## KNN SKLEARN    \n",
    "        # Split dataset into training set and test set\n",
    "        X_train, X_test, y_train, y_test = train_test_split(df.loc[:, df.columns != 'diagnosis'], df['diagnosis'], test_size=test_percent*0.01)\n",
    "\n",
    "        #Create KNN Classifier\n",
    "        knn = KNeighborsClassifier(n_neighbors=K_of_Knn)\n",
    "        \n",
    "\n",
    "        #Train the model using the training sets\n",
    "        knn.fit(X_train, y_train)\n",
    "\n",
    "        #Predict the response for test dataset\n",
    "        y_pred = knn.predict(X_test)\n",
    "        \n",
    "        \n",
    "        \n",
    "\n",
    "        print(f\"Using {train_percent}% train and {test_percent}% test with built-in KNN is\",metrics.accuracy_score(y_test, y_pred))\n",
    "    \n",
    "        \n",
    "        \n",
    "    \n",
    "    "
   ]
  },
  {
   "cell_type": "markdown",
   "id": "56a81bd7",
   "metadata": {},
   "source": [
    "### 70% train data, 30% test data"
   ]
  },
  {
   "cell_type": "code",
   "execution_count": 167,
   "id": "20ecfc52",
   "metadata": {},
   "outputs": [
    {
     "name": "stdout",
     "output_type": "stream",
     "text": [
      "Using 70% train and 30% test with KNN raw code is 0.6374269005847953\n",
      "Using 70% train and 30% test with built-in KNN is 0.6491228070175439\n"
     ]
    }
   ],
   "source": [
    "split_predict_compare(70,30)"
   ]
  },
  {
   "cell_type": "markdown",
   "id": "3db3597c",
   "metadata": {},
   "source": [
    "### 80% train data, 20% test data"
   ]
  },
  {
   "cell_type": "code",
   "execution_count": 168,
   "id": "dc7b7ba9",
   "metadata": {},
   "outputs": [
    {
     "name": "stdout",
     "output_type": "stream",
     "text": [
      "Using 80% train and 20% test with KNN raw code is 0.6578947368421053\n",
      "Using 80% train and 20% test with built-in KNN is 0.6842105263157895\n"
     ]
    }
   ],
   "source": [
    "split_predict_compare(80,20)"
   ]
  }
 ],
 "metadata": {
  "kernelspec": {
   "display_name": "Python 3 (ipykernel)",
   "language": "python",
   "name": "python3"
  },
  "language_info": {
   "codemirror_mode": {
    "name": "ipython",
    "version": 3
   },
   "file_extension": ".py",
   "mimetype": "text/x-python",
   "name": "python",
   "nbconvert_exporter": "python",
   "pygments_lexer": "ipython3",
   "version": "3.9.5"
  },
  "vscode": {
   "interpreter": {
    "hash": "82ed002fa2d4956f5c6aec99bcefe0f73a9f79882f3c9e2319b14958a5896ac5"
   }
  }
 },
 "nbformat": 4,
 "nbformat_minor": 5
}
