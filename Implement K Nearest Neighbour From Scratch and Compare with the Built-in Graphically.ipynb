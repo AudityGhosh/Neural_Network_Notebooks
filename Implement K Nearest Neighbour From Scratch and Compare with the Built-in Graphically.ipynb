{
 "cells": [
  {
   "cell_type": "markdown",
   "metadata": {},
   "source": [
    "## Implement K Nearest Neighbour From Scratch and Compare with the Built-in Graphically\n",
    "\n",
    "\n",
    "\n",
    "Audity Ghosh\n",
    "<br>CSE, RUET\n",
    "\n",
    "#### Objectives:\n",
    "- Implement KNN with Python\n",
    "- How KNN works?\n",
    "- SKlearn KNN\n",
    "- Scatter Plot and Comparison\n",
    "\n",
    "\n",
    "#### References:\n",
    "[1] Implement KNN from scratch https://machinelearningmastery.com/tutorial-to-implement-k-nearest-neighbors-in-python-from-scratch/\n"
   ]
  },
  {
   "cell_type": "markdown",
   "metadata": {},
   "source": [
    "### import necessary libraries"
   ]
  },
  {
   "cell_type": "code",
   "execution_count": 2,
   "metadata": {},
   "outputs": [],
   "source": [
    "import matplotlib.pyplot as plt\n",
    "import numpy as np\n",
    "import pandas as pd\n",
    "import math \n",
    "from sklearn.neighbors import KNeighborsClassifier"
   ]
  },
  {
   "cell_type": "markdown",
   "metadata": {},
   "source": [
    "### plotting points based on two groups"
   ]
  },
  {
   "cell_type": "markdown",
   "metadata": {},
   "source": [
    "points is a dictionary. There are two groups(keys), 0 and 1. For each group, there are some samples. Each sample has two features, indexed by 0 and 1. "
   ]
  },
  {
   "cell_type": "code",
   "execution_count": 3,
   "metadata": {},
   "outputs": [],
   "source": [
    "def plot_points(points):\n",
    "    \n",
    "    plt.figure()\n",
    "    for group in points:\n",
    "        # traverse 0 and 1 keys in points dictionary \n",
    "        for feature in points[group]: # feature is a 2 len vector for each sample in that group \n",
    "            \n",
    "            # defining the color as per the group \n",
    "            if group == 1:\n",
    "                c = 'blue' \n",
    "            else:\n",
    "                c = 'red' \n",
    "                \n",
    "            # using the two elements of feature vector to plot in x-y coordinates. \n",
    "            plt.scatter(feature[0],feature[1],color=c)\n",
    "    \n",
    "    plt.xlim([0, 15])\n",
    "    plt.ylim([0, 15])\n",
    "            \n",
    "    plt.show()"
   ]
  },
  {
   "cell_type": "markdown",
   "metadata": {},
   "source": [
    "### calculating distance from a test sample to other samples "
   ]
  },
  {
   "cell_type": "code",
   "execution_count": 4,
   "metadata": {},
   "outputs": [],
   "source": [
    "# the parameters are points dictionary, p = test sample row\n",
    "def dis(points,p):\n",
    "    \n",
    "    distance=[]\n",
    "    \n",
    "    for group in points:\n",
    "        for feature in points[group]:\n",
    "            # traverse feature in each sample in each group \n",
    "            euclidean_distance = math.sqrt((feature[0]-p[0])**2 +(feature[1]-p[1])**2) \n",
    "            # calculate distance from p            \n",
    "            distance.append((euclidean_distance,group)) \n",
    "            # append calculated distance and group no in distance list\n",
    "    distance = sorted(distance) \n",
    "    # sort based on calculated distance \n",
    "    \n",
    "    \n",
    "    return distance"
   ]
  },
  {
   "cell_type": "markdown",
   "metadata": {},
   "source": [
    "### assign group to new test sample based on built in KNN"
   ]
  },
  {
   "cell_type": "code",
   "execution_count": 5,
   "metadata": {},
   "outputs": [],
   "source": [
    "def cls_nn(df,p,k):\n",
    "    \n",
    "    X_train =  df.loc[:, df.columns != 'Y'].values\n",
    "    y_train = df['Y'].values\n",
    "    \n",
    "    \n",
    "\n",
    "    #Create KNN Classifier\n",
    "    knn = KNeighborsClassifier(n_neighbors=k)\n",
    "\n",
    "\n",
    "    #Train the model using the training sets\n",
    "    knn.fit(X_train, y_train)\n",
    "\n",
    "    #Predict the response for test dataset\n",
    "    y_pred = knn.predict(np.array(p).reshape(1,-1))\n",
    "    \n",
    "    #print(\"Y_pred\",y_pred,\"type\",type(y_pred))\n",
    "    \n",
    "    points[y_pred[0]].append(p) # assign that sample to predicted group \n",
    "    \n",
    "    print(\"new point's group:\",y_pred[0])\n",
    "    \n",
    "    plot_points(points)    \n",
    "    \n",
    "    "
   ]
  },
  {
   "cell_type": "markdown",
   "metadata": {},
   "source": [
    "### assign group to new point using manual knn "
   ]
  },
  {
   "cell_type": "code",
   "execution_count": 6,
   "metadata": {},
   "outputs": [],
   "source": [
    "# the parameters are points dictionary, p new test sample row, k no of neighbours\n",
    "def manual_knn(points,p,k):\n",
    "    \n",
    "    d = dis(points,p) # get the sorted distance and group of samples from points dict closest to p \n",
    "    \n",
    "    neighbors = []\n",
    "    \n",
    "    for i in range(k):\n",
    "        neighbors.append(d[i]) # get k closest neighbours \n",
    "    \n",
    "    output_values = [row[-1] for row in neighbors] # get only the group no of the neighbours \n",
    "    \n",
    "    #print(output_values)\n",
    "    prediction = max(set(output_values), key=output_values.count) # which group memebers are max neighbours \n",
    "    \n",
    "    points[prediction].append(p) # assign that sample to predicted group \n",
    "    \n",
    "    print(\"new point's group:\",prediction)\n",
    "    \n",
    "    plot_points(points)    "
   ]
  },
  {
   "cell_type": "code",
   "execution_count": 7,
   "metadata": {},
   "outputs": [
    {
     "data": {
      "image/png": "[encoded data removed]",
      "text/plain": [
       "<Figure size 432x288 with 1 Axes>"
      ]
     },
     "metadata": {
      "needs_background": "light"
     },
     "output_type": "display_data"
    }
   ],
   "source": [
    "points = {0: [[1, 12], [1.5, 11], [1, 10], [2, 11], [2.3, 9], [1.8, 9.5], [1.8, 9.5], [2.8, 8.0]],\n",
    "          1: [[3, 3], [3.5, 3.5], [3.5, 5.5], [3.3, 4.4], [3.3, 4.4], [2.8, 5.0], [2.8, 5.0]]}\n",
    "# points = {0: [[1, 12]],\n",
    "#           1: [[3, 3]]}\n",
    "plot_points(points)\n",
    "\n",
    "\n",
    "# dictionary to 2D list \n",
    "data = []\n",
    "for group in points:\n",
    "    for sample in points[group]:\n",
    "        temp = sample\n",
    "        temp.append(group)\n",
    "        data.append(temp)\n",
    "\n",
    "df = pd.DataFrame(data, columns =['X1', 'X2','Y'])\n",
    "\n",
    "\n",
    "\n",
    "\n",
    "        "
   ]
  },
  {
   "cell_type": "code",
   "execution_count": 28,
   "metadata": {},
   "outputs": [
    {
     "name": "stdout",
     "output_type": "stream",
     "text": [
      "Enter new points: 4 13\n",
      "Built in KNN predicts:\n",
      "new point's group: 0\n"
     ]
    },
    {
     "data": {
      "image/png": "[encoded data removed]",
      "text/plain": [
       "<Figure size 432x288 with 1 Axes>"
      ]
     },
     "metadata": {
      "needs_background": "light"
     },
     "output_type": "display_data"
    },
    {
     "name": "stdout",
     "output_type": "stream",
     "text": [
      "Manual KNN predicts:\n",
      "new point's group: 0\n"
     ]
    },
    {
     "data": {
      "image/png": "[encoded data removed]",
      "text/plain": [
       "<Figure size 432x288 with 1 Axes>"
      ]
     },
     "metadata": {
      "needs_background": "light"
     },
     "output_type": "display_data"
    },
    {
     "ename": "KeyboardInterrupt",
     "evalue": "Interrupted by user",
     "output_type": "error",
     "traceback": [
      "\u001b[1;31m---------------------------------------------------------------------------\u001b[0m",
      "\u001b[1;31mKeyboardInterrupt\u001b[0m                         Traceback (most recent call last)",
      "\u001b[1;32m~\\AppData\\Local\\Temp/ipykernel_10352/1404507568.py\u001b[0m in \u001b[0;36m<module>\u001b[1;34m\u001b[0m\n\u001b[0;32m      1\u001b[0m \u001b[0mk\u001b[0m \u001b[1;33m=\u001b[0m \u001b[1;36m5\u001b[0m\u001b[1;33m\u001b[0m\u001b[1;33m\u001b[0m\u001b[0m\n\u001b[0;32m      2\u001b[0m \u001b[1;32mwhile\u001b[0m \u001b[1;32mTrue\u001b[0m\u001b[1;33m:\u001b[0m\u001b[1;33m\u001b[0m\u001b[1;33m\u001b[0m\u001b[0m\n\u001b[1;32m----> 3\u001b[1;33m     \u001b[0mp\u001b[0m \u001b[1;33m=\u001b[0m \u001b[1;33m[\u001b[0m\u001b[0mfloat\u001b[0m\u001b[1;33m(\u001b[0m\u001b[0mp\u001b[0m\u001b[1;33m)\u001b[0m \u001b[1;32mfor\u001b[0m \u001b[0mp\u001b[0m \u001b[1;32min\u001b[0m \u001b[0minput\u001b[0m\u001b[1;33m(\u001b[0m\u001b[1;34m\"Enter new points: \"\u001b[0m\u001b[1;33m)\u001b[0m\u001b[1;33m.\u001b[0m\u001b[0msplit\u001b[0m\u001b[1;33m(\u001b[0m\u001b[1;33m)\u001b[0m\u001b[1;33m]\u001b[0m\u001b[1;33m\u001b[0m\u001b[1;33m\u001b[0m\u001b[0m\n\u001b[0m\u001b[0;32m      4\u001b[0m     \u001b[0mprint\u001b[0m\u001b[1;33m(\u001b[0m\u001b[1;34m\"Built in KNN predicts:\"\u001b[0m\u001b[1;33m)\u001b[0m\u001b[1;33m\u001b[0m\u001b[1;33m\u001b[0m\u001b[0m\n\u001b[0;32m      5\u001b[0m     \u001b[0mcls_nn\u001b[0m\u001b[1;33m(\u001b[0m\u001b[0mdf\u001b[0m\u001b[1;33m,\u001b[0m\u001b[0mp\u001b[0m\u001b[1;33m,\u001b[0m\u001b[0mk\u001b[0m\u001b[1;33m)\u001b[0m\u001b[1;33m\u001b[0m\u001b[1;33m\u001b[0m\u001b[0m\n",
      "\u001b[1;32mc:\\users\\user\\appdata\\local\\programs\\python\\python39\\lib\\site-packages\\ipykernel\\kernelbase.py\u001b[0m in \u001b[0;36mraw_input\u001b[1;34m(self, prompt)\u001b[0m\n\u001b[0;32m    979\u001b[0m                 \u001b[1;34m\"raw_input was called, but this frontend does not support input requests.\"\u001b[0m\u001b[1;33m\u001b[0m\u001b[1;33m\u001b[0m\u001b[0m\n\u001b[0;32m    980\u001b[0m             )\n\u001b[1;32m--> 981\u001b[1;33m         return self._input_request(\n\u001b[0m\u001b[0;32m    982\u001b[0m             \u001b[0mstr\u001b[0m\u001b[1;33m(\u001b[0m\u001b[0mprompt\u001b[0m\u001b[1;33m)\u001b[0m\u001b[1;33m,\u001b[0m\u001b[1;33m\u001b[0m\u001b[1;33m\u001b[0m\u001b[0m\n\u001b[0;32m    983\u001b[0m             \u001b[0mself\u001b[0m\u001b[1;33m.\u001b[0m\u001b[0m_parent_ident\u001b[0m\u001b[1;33m[\u001b[0m\u001b[1;34m\"shell\"\u001b[0m\u001b[1;33m]\u001b[0m\u001b[1;33m,\u001b[0m\u001b[1;33m\u001b[0m\u001b[1;33m\u001b[0m\u001b[0m\n",
      "\u001b[1;32mc:\\users\\user\\appdata\\local\\programs\\python\\python39\\lib\\site-packages\\ipykernel\\kernelbase.py\u001b[0m in \u001b[0;36m_input_request\u001b[1;34m(self, prompt, ident, parent, password)\u001b[0m\n\u001b[0;32m   1024\u001b[0m             \u001b[1;32mexcept\u001b[0m \u001b[0mKeyboardInterrupt\u001b[0m\u001b[1;33m:\u001b[0m\u001b[1;33m\u001b[0m\u001b[1;33m\u001b[0m\u001b[0m\n\u001b[0;32m   1025\u001b[0m                 \u001b[1;31m# re-raise KeyboardInterrupt, to truncate traceback\u001b[0m\u001b[1;33m\u001b[0m\u001b[1;33m\u001b[0m\u001b[1;33m\u001b[0m\u001b[0m\n\u001b[1;32m-> 1026\u001b[1;33m                 \u001b[1;32mraise\u001b[0m \u001b[0mKeyboardInterrupt\u001b[0m\u001b[1;33m(\u001b[0m\u001b[1;34m\"Interrupted by user\"\u001b[0m\u001b[1;33m)\u001b[0m \u001b[1;32mfrom\u001b[0m \u001b[1;32mNone\u001b[0m\u001b[1;33m\u001b[0m\u001b[1;33m\u001b[0m\u001b[0m\n\u001b[0m\u001b[0;32m   1027\u001b[0m             \u001b[1;32mexcept\u001b[0m \u001b[0mException\u001b[0m\u001b[1;33m:\u001b[0m\u001b[1;33m\u001b[0m\u001b[1;33m\u001b[0m\u001b[0m\n\u001b[0;32m   1028\u001b[0m                 \u001b[0mself\u001b[0m\u001b[1;33m.\u001b[0m\u001b[0mlog\u001b[0m\u001b[1;33m.\u001b[0m\u001b[0mwarning\u001b[0m\u001b[1;33m(\u001b[0m\u001b[1;34m\"Invalid Message:\"\u001b[0m\u001b[1;33m,\u001b[0m \u001b[0mexc_info\u001b[0m\u001b[1;33m=\u001b[0m\u001b[1;32mTrue\u001b[0m\u001b[1;33m)\u001b[0m\u001b[1;33m\u001b[0m\u001b[1;33m\u001b[0m\u001b[0m\n",
      "\u001b[1;31mKeyboardInterrupt\u001b[0m: Interrupted by user"
     ]
    }
   ],
   "source": [
    "\n",
    "k = 5\n",
    "while True:\n",
    "    p = [float(p) for p in input(\"Enter new points: \").split()]\n",
    "    print(\"Built in KNN predicts:\")\n",
    "    cls_nn(df,p,k)  \n",
    "    print(\"Manual KNN predicts:\")\n",
    "    manual_knn(points,p,k)"
   ]
  },
  {
   "cell_type": "markdown",
   "metadata": {},
   "source": [
    "The input is an infinite loop while taking from the user. So the output was stopped using keyboard interrupt. It is not an error. "
   ]
  }
 ],
 "metadata": {
  "kernelspec": {
   "display_name": "Python 3 (ipykernel)",
   "language": "python",
   "name": "python3"
  },
  "language_info": {
   "codemirror_mode": {
    "name": "ipython",
    "version": 3
   },
   "file_extension": ".py",
   "mimetype": "text/x-python",
   "name": "python",
   "nbconvert_exporter": "python",
   "pygments_lexer": "ipython3",
   "version": "3.9.5"
  }
 },
 "nbformat": 4,
 "nbformat_minor": 2
}
