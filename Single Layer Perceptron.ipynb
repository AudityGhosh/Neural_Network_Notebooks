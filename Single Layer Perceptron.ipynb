{
 "cells": [
  {
   "cell_type": "markdown",
   "id": "fabe4ddc",
   "metadata": {},
   "source": [
    "# Code Single Layer Perceptron from Scratch \n",
    "###  -   Using a bit table of any bit \n",
    "###  -   Apply Group Wise Training and Compare with the Scratch one\n",
    "\n",
    "\n",
    "\n",
    "\n",
    "Audity Ghosh\n",
    "<br>CSE, RUET\n",
    "\n",
    "#### Objectives:\n",
    "- Implement Single Layer Perceptron with Python\n",
    "- How Widrow-Hoff-Delta Rule works?\n",
    "- Train Group Wise ( 0 1 Group Seperately )\n",
    "- Built perceptron with any number of features \n",
    "- Comparison using accuracy\n",
    "\n",
    "\n",
    "\n",
    "#### References:\n",
    "[1] Widrow-Hoff-Delta Rule https://books.google.fm/books?id=pVR9W5LEZUwC&printsec=frontcover#v=onepage&q&f=false\n"
   ]
  },
  {
   "cell_type": "markdown",
   "id": "55e44562",
   "metadata": {},
   "source": [
    "### Import libraries"
   ]
  },
  {
   "cell_type": "code",
   "execution_count": 964,
   "id": "72384d2c",
   "metadata": {},
   "outputs": [],
   "source": [
    "import numpy as np\n",
    "import pandas as pd\n",
    "from math import sqrt\n",
    "from sklearn.neighbors import KNeighborsClassifier\n",
    "from sklearn.model_selection import train_test_split\n",
    "from sklearn import metrics\n",
    "import time\n",
    "import random\n",
    "from operator import ixor\n",
    "from functools import reduce"
   ]
  },
  {
   "cell_type": "markdown",
   "id": "df0c095f",
   "metadata": {},
   "source": [
    "## 1. Define Problem "
   ]
  },
  {
   "cell_type": "markdown",
   "id": "30660de7",
   "metadata": {},
   "source": [
    "### Load data,  Two Classes"
   ]
  },
  {
   "cell_type": "code",
   "execution_count": 965,
   "id": "300c7566",
   "metadata": {},
   "outputs": [],
   "source": [
    "no_bit = 3"
   ]
  },
  {
   "cell_type": "code",
   "execution_count": 966,
   "id": "da4084ee",
   "metadata": {},
   "outputs": [
    {
     "name": "stdout",
     "output_type": "stream",
     "text": [
      "['000', '001', '010', '011', '100', '101', '110', '111']\n"
     ]
    }
   ],
   "source": [
    "import itertools\n",
    "\n",
    "\n",
    "ds = []\n",
    "word = '0'*no_bit\n",
    "ds.append(word)\n",
    "\n",
    "[\n",
    "    ds.append(num)\n",
    "    for num in (''.join(p) for p in itertools.product('01', repeat=no_bit)) \n",
    "    if not num.startswith(word)\n",
    "]\n",
    "\n",
    "print(ds)\n",
    "\n",
    "\n"
   ]
  },
  {
   "cell_type": "code",
   "execution_count": 967,
   "id": "6b322f60",
   "metadata": {},
   "outputs": [
    {
     "data": {
      "text/plain": [
       "[0, 0, 0, 1, 0, 0, 0, 0]"
      ]
     },
     "execution_count": 967,
     "metadata": {},
     "output_type": "execute_result"
    }
   ],
   "source": [
    "labels = [random.randint(0,1) for _ in range(len(ds))]\n",
    "labels"
   ]
  },
  {
   "cell_type": "code",
   "execution_count": 968,
   "id": "6b19f25c",
   "metadata": {},
   "outputs": [],
   "source": [
    "data = []\n",
    "cnt = 0\n",
    "\n",
    "\n",
    "\n",
    "for string in ds:\n",
    "    l = []\n",
    "    for char in string:\n",
    "        l.append(int(char))\n",
    "        \n",
    "    \n",
    "    l.append(labels[cnt])\n",
    "    \n",
    "        \n",
    "        \n",
    "    cnt = cnt + 1\n",
    "    data.append(l)"
   ]
  },
  {
   "cell_type": "code",
   "execution_count": 969,
   "id": "4685d9fb",
   "metadata": {},
   "outputs": [
    {
     "data": {
      "text/plain": [
       "[[0, 0, 0, 0],\n",
       " [0, 0, 1, 0],\n",
       " [0, 1, 0, 0],\n",
       " [0, 1, 1, 1],\n",
       " [1, 0, 0, 0],\n",
       " [1, 0, 1, 0],\n",
       " [1, 1, 0, 0],\n",
       " [1, 1, 1, 0]]"
      ]
     },
     "execution_count": 969,
     "metadata": {},
     "output_type": "execute_result"
    }
   ],
   "source": [
    "data"
   ]
  },
  {
   "cell_type": "code",
   "execution_count": 970,
   "id": "26c9d818",
   "metadata": {},
   "outputs": [
    {
     "data": {
      "text/plain": [
       "['X1', 'X2', 'X3', 'Output']"
      ]
     },
     "execution_count": 970,
     "metadata": {},
     "output_type": "execute_result"
    }
   ],
   "source": [
    "col = []\n",
    "for i in range(len(data[0])-1):\n",
    "    col.append(\"X\"+str(i+1))\n",
    "col.append(\"Output\")\n",
    "col"
   ]
  },
  {
   "cell_type": "code",
   "execution_count": 971,
   "id": "4d2832ae",
   "metadata": {},
   "outputs": [
    {
     "data": {
      "text/html": [
       "<div>\n",
       "<style scoped>\n",
       "    .dataframe tbody tr th:only-of-type {\n",
       "        vertical-align: middle;\n",
       "    }\n",
       "\n",
       "    .dataframe tbody tr th {\n",
       "        vertical-align: top;\n",
       "    }\n",
       "\n",
       "    .dataframe thead th {\n",
       "        text-align: right;\n",
       "    }\n",
       "</style>\n",
       "<table border=\"1\" class=\"dataframe\">\n",
       "  <thead>\n",
       "    <tr style=\"text-align: right;\">\n",
       "      <th></th>\n",
       "      <th>X1</th>\n",
       "      <th>X2</th>\n",
       "      <th>X3</th>\n",
       "      <th>Output</th>\n",
       "    </tr>\n",
       "  </thead>\n",
       "  <tbody>\n",
       "    <tr>\n",
       "      <th>0</th>\n",
       "      <td>0</td>\n",
       "      <td>0</td>\n",
       "      <td>0</td>\n",
       "      <td>0</td>\n",
       "    </tr>\n",
       "    <tr>\n",
       "      <th>1</th>\n",
       "      <td>0</td>\n",
       "      <td>0</td>\n",
       "      <td>1</td>\n",
       "      <td>0</td>\n",
       "    </tr>\n",
       "    <tr>\n",
       "      <th>2</th>\n",
       "      <td>0</td>\n",
       "      <td>1</td>\n",
       "      <td>0</td>\n",
       "      <td>0</td>\n",
       "    </tr>\n",
       "    <tr>\n",
       "      <th>3</th>\n",
       "      <td>0</td>\n",
       "      <td>1</td>\n",
       "      <td>1</td>\n",
       "      <td>1</td>\n",
       "    </tr>\n",
       "    <tr>\n",
       "      <th>4</th>\n",
       "      <td>1</td>\n",
       "      <td>0</td>\n",
       "      <td>0</td>\n",
       "      <td>0</td>\n",
       "    </tr>\n",
       "    <tr>\n",
       "      <th>5</th>\n",
       "      <td>1</td>\n",
       "      <td>0</td>\n",
       "      <td>1</td>\n",
       "      <td>0</td>\n",
       "    </tr>\n",
       "    <tr>\n",
       "      <th>6</th>\n",
       "      <td>1</td>\n",
       "      <td>1</td>\n",
       "      <td>0</td>\n",
       "      <td>0</td>\n",
       "    </tr>\n",
       "    <tr>\n",
       "      <th>7</th>\n",
       "      <td>1</td>\n",
       "      <td>1</td>\n",
       "      <td>1</td>\n",
       "      <td>0</td>\n",
       "    </tr>\n",
       "  </tbody>\n",
       "</table>\n",
       "</div>"
      ],
      "text/plain": [
       "   X1  X2  X3  Output\n",
       "0   0   0   0       0\n",
       "1   0   0   1       0\n",
       "2   0   1   0       0\n",
       "3   0   1   1       1\n",
       "4   1   0   0       0\n",
       "5   1   0   1       0\n",
       "6   1   1   0       0\n",
       "7   1   1   1       0"
      ]
     },
     "execution_count": 971,
     "metadata": {},
     "output_type": "execute_result"
    }
   ],
   "source": [
    "data = pd.DataFrame(data, columns=col)\n",
    "data"
   ]
  },
  {
   "cell_type": "code",
   "execution_count": 972,
   "id": "e73ed971",
   "metadata": {},
   "outputs": [
    {
     "data": {
      "text/plain": [
       "(8, 4)"
      ]
     },
     "execution_count": 972,
     "metadata": {},
     "output_type": "execute_result"
    }
   ],
   "source": [
    "data.shape"
   ]
  },
  {
   "cell_type": "code",
   "execution_count": 973,
   "id": "a6f335b0",
   "metadata": {},
   "outputs": [
    {
     "name": "stdout",
     "output_type": "stream",
     "text": [
      "<class 'pandas.core.frame.DataFrame'>\n",
      "RangeIndex: 8 entries, 0 to 7\n",
      "Data columns (total 4 columns):\n",
      " #   Column  Non-Null Count  Dtype\n",
      "---  ------  --------------  -----\n",
      " 0   X1      8 non-null      int64\n",
      " 1   X2      8 non-null      int64\n",
      " 2   X3      8 non-null      int64\n",
      " 3   Output  8 non-null      int64\n",
      "dtypes: int64(4)\n",
      "memory usage: 384.0 bytes\n"
     ]
    }
   ],
   "source": [
    "data.info()"
   ]
  },
  {
   "cell_type": "code",
   "execution_count": 974,
   "id": "07125bf0",
   "metadata": {},
   "outputs": [
    {
     "data": {
      "text/html": [
       "<div>\n",
       "<style scoped>\n",
       "    .dataframe tbody tr th:only-of-type {\n",
       "        vertical-align: middle;\n",
       "    }\n",
       "\n",
       "    .dataframe tbody tr th {\n",
       "        vertical-align: top;\n",
       "    }\n",
       "\n",
       "    .dataframe thead th {\n",
       "        text-align: right;\n",
       "    }\n",
       "</style>\n",
       "<table border=\"1\" class=\"dataframe\">\n",
       "  <thead>\n",
       "    <tr style=\"text-align: right;\">\n",
       "      <th></th>\n",
       "      <th>X1</th>\n",
       "      <th>X2</th>\n",
       "      <th>X3</th>\n",
       "      <th>Output</th>\n",
       "    </tr>\n",
       "  </thead>\n",
       "  <tbody>\n",
       "    <tr>\n",
       "      <th>count</th>\n",
       "      <td>8.000000</td>\n",
       "      <td>8.000000</td>\n",
       "      <td>8.000000</td>\n",
       "      <td>8.000000</td>\n",
       "    </tr>\n",
       "    <tr>\n",
       "      <th>mean</th>\n",
       "      <td>0.500000</td>\n",
       "      <td>0.500000</td>\n",
       "      <td>0.500000</td>\n",
       "      <td>0.125000</td>\n",
       "    </tr>\n",
       "    <tr>\n",
       "      <th>std</th>\n",
       "      <td>0.534522</td>\n",
       "      <td>0.534522</td>\n",
       "      <td>0.534522</td>\n",
       "      <td>0.353553</td>\n",
       "    </tr>\n",
       "    <tr>\n",
       "      <th>min</th>\n",
       "      <td>0.000000</td>\n",
       "      <td>0.000000</td>\n",
       "      <td>0.000000</td>\n",
       "      <td>0.000000</td>\n",
       "    </tr>\n",
       "    <tr>\n",
       "      <th>25%</th>\n",
       "      <td>0.000000</td>\n",
       "      <td>0.000000</td>\n",
       "      <td>0.000000</td>\n",
       "      <td>0.000000</td>\n",
       "    </tr>\n",
       "    <tr>\n",
       "      <th>50%</th>\n",
       "      <td>0.500000</td>\n",
       "      <td>0.500000</td>\n",
       "      <td>0.500000</td>\n",
       "      <td>0.000000</td>\n",
       "    </tr>\n",
       "    <tr>\n",
       "      <th>75%</th>\n",
       "      <td>1.000000</td>\n",
       "      <td>1.000000</td>\n",
       "      <td>1.000000</td>\n",
       "      <td>0.000000</td>\n",
       "    </tr>\n",
       "    <tr>\n",
       "      <th>max</th>\n",
       "      <td>1.000000</td>\n",
       "      <td>1.000000</td>\n",
       "      <td>1.000000</td>\n",
       "      <td>1.000000</td>\n",
       "    </tr>\n",
       "  </tbody>\n",
       "</table>\n",
       "</div>"
      ],
      "text/plain": [
       "             X1        X2        X3    Output\n",
       "count  8.000000  8.000000  8.000000  8.000000\n",
       "mean   0.500000  0.500000  0.500000  0.125000\n",
       "std    0.534522  0.534522  0.534522  0.353553\n",
       "min    0.000000  0.000000  0.000000  0.000000\n",
       "25%    0.000000  0.000000  0.000000  0.000000\n",
       "50%    0.500000  0.500000  0.500000  0.000000\n",
       "75%    1.000000  1.000000  1.000000  0.000000\n",
       "max    1.000000  1.000000  1.000000  1.000000"
      ]
     },
     "execution_count": 974,
     "metadata": {},
     "output_type": "execute_result"
    }
   ],
   "source": [
    "data.describe()"
   ]
  },
  {
   "cell_type": "code",
   "execution_count": 975,
   "id": "30a7fa52",
   "metadata": {},
   "outputs": [
    {
     "data": {
      "text/plain": [
       "0    7\n",
       "1    1\n",
       "Name: Output, dtype: int64"
      ]
     },
     "execution_count": 975,
     "metadata": {},
     "output_type": "execute_result"
    }
   ],
   "source": [
    "data['Output'].value_counts()"
   ]
  },
  {
   "cell_type": "markdown",
   "id": "bdb5807e",
   "metadata": {},
   "source": [
    "#### Convert dataframe to 2D List"
   ]
  },
  {
   "cell_type": "code",
   "execution_count": 976,
   "id": "bf1def35",
   "metadata": {},
   "outputs": [],
   "source": [
    "df = data"
   ]
  },
  {
   "cell_type": "code",
   "execution_count": 977,
   "id": "fffce33c",
   "metadata": {},
   "outputs": [],
   "source": [
    "data = data.values.tolist()"
   ]
  },
  {
   "cell_type": "code",
   "execution_count": 978,
   "id": "41f790ef",
   "metadata": {},
   "outputs": [
    {
     "data": {
      "text/plain": [
       "[[0, 0, 0, 0],\n",
       " [0, 0, 1, 0],\n",
       " [0, 1, 0, 0],\n",
       " [0, 1, 1, 1],\n",
       " [1, 0, 0, 0],\n",
       " [1, 0, 1, 0],\n",
       " [1, 1, 0, 0],\n",
       " [1, 1, 1, 0]]"
      ]
     },
     "execution_count": 978,
     "metadata": {},
     "output_type": "execute_result"
    }
   ],
   "source": [
    "data"
   ]
  },
  {
   "cell_type": "markdown",
   "id": "bef1654e",
   "metadata": {},
   "source": [
    "## 2. Design Architecture"
   ]
  },
  {
   "attachments": {
    "architecture.PNG": {
     "image/png": "[encoded data removed]"
    }
   },
   "cell_type": "markdown",
   "id": "d211bffc",
   "metadata": {},
   "source": [
    "![architecture.PNG](attachment:architecture.PNG)"
   ]
  },
  {
   "cell_type": "markdown",
   "id": "9d78568c",
   "metadata": {},
   "source": [
    "## 3. Implement Algorithm"
   ]
  },
  {
   "cell_type": "markdown",
   "id": "ea058874",
   "metadata": {},
   "source": [
    "### 3.1. Initialize weights, threshold, gain term"
   ]
  },
  {
   "cell_type": "code",
   "execution_count": 979,
   "id": "db170e4c",
   "metadata": {},
   "outputs": [
    {
     "data": {
      "text/plain": [
       "array([0.74400386, 0.5454287 , 0.5231574 ])"
      ]
     },
     "execution_count": 979,
     "metadata": {},
     "output_type": "execute_result"
    }
   ],
   "source": [
    "weights = np.random.rand(len(data[0])-1)\n",
    "weights"
   ]
  },
  {
   "cell_type": "code",
   "execution_count": 980,
   "id": "c9c09a14",
   "metadata": {},
   "outputs": [],
   "source": [
    "threshold = 0.5"
   ]
  },
  {
   "cell_type": "code",
   "execution_count": 981,
   "id": "0ce578aa",
   "metadata": {},
   "outputs": [],
   "source": [
    "gain_term = 0.9"
   ]
  },
  {
   "cell_type": "markdown",
   "id": "c435ec57",
   "metadata": {},
   "source": [
    "### 3.2. Present Input and Desired output"
   ]
  },
  {
   "cell_type": "code",
   "execution_count": 982,
   "id": "b62f077f",
   "metadata": {},
   "outputs": [
    {
     "data": {
      "text/html": [
       "<div>\n",
       "<style scoped>\n",
       "    .dataframe tbody tr th:only-of-type {\n",
       "        vertical-align: middle;\n",
       "    }\n",
       "\n",
       "    .dataframe tbody tr th {\n",
       "        vertical-align: top;\n",
       "    }\n",
       "\n",
       "    .dataframe thead th {\n",
       "        text-align: right;\n",
       "    }\n",
       "</style>\n",
       "<table border=\"1\" class=\"dataframe\">\n",
       "  <thead>\n",
       "    <tr style=\"text-align: right;\">\n",
       "      <th></th>\n",
       "      <th>X1</th>\n",
       "      <th>X2</th>\n",
       "      <th>X3</th>\n",
       "      <th>Output</th>\n",
       "    </tr>\n",
       "  </thead>\n",
       "  <tbody>\n",
       "    <tr>\n",
       "      <th>0</th>\n",
       "      <td>0</td>\n",
       "      <td>0</td>\n",
       "      <td>0</td>\n",
       "      <td>0</td>\n",
       "    </tr>\n",
       "    <tr>\n",
       "      <th>1</th>\n",
       "      <td>0</td>\n",
       "      <td>0</td>\n",
       "      <td>1</td>\n",
       "      <td>0</td>\n",
       "    </tr>\n",
       "    <tr>\n",
       "      <th>2</th>\n",
       "      <td>0</td>\n",
       "      <td>1</td>\n",
       "      <td>0</td>\n",
       "      <td>0</td>\n",
       "    </tr>\n",
       "    <tr>\n",
       "      <th>3</th>\n",
       "      <td>0</td>\n",
       "      <td>1</td>\n",
       "      <td>1</td>\n",
       "      <td>1</td>\n",
       "    </tr>\n",
       "    <tr>\n",
       "      <th>4</th>\n",
       "      <td>1</td>\n",
       "      <td>0</td>\n",
       "      <td>0</td>\n",
       "      <td>0</td>\n",
       "    </tr>\n",
       "    <tr>\n",
       "      <th>5</th>\n",
       "      <td>1</td>\n",
       "      <td>0</td>\n",
       "      <td>1</td>\n",
       "      <td>0</td>\n",
       "    </tr>\n",
       "    <tr>\n",
       "      <th>6</th>\n",
       "      <td>1</td>\n",
       "      <td>1</td>\n",
       "      <td>0</td>\n",
       "      <td>0</td>\n",
       "    </tr>\n",
       "    <tr>\n",
       "      <th>7</th>\n",
       "      <td>1</td>\n",
       "      <td>1</td>\n",
       "      <td>1</td>\n",
       "      <td>0</td>\n",
       "    </tr>\n",
       "  </tbody>\n",
       "</table>\n",
       "</div>"
      ],
      "text/plain": [
       "   X1  X2  X3  Output\n",
       "0   0   0   0       0\n",
       "1   0   0   1       0\n",
       "2   0   1   0       0\n",
       "3   0   1   1       1\n",
       "4   1   0   0       0\n",
       "5   1   0   1       0\n",
       "6   1   1   0       0\n",
       "7   1   1   1       0"
      ]
     },
     "execution_count": 982,
     "metadata": {},
     "output_type": "execute_result"
    }
   ],
   "source": [
    "df"
   ]
  },
  {
   "cell_type": "markdown",
   "id": "ccc884ad",
   "metadata": {},
   "source": [
    "### 3.3. Calculate actual output"
   ]
  },
  {
   "cell_type": "code",
   "execution_count": 983,
   "id": "b9c285cd",
   "metadata": {},
   "outputs": [],
   "source": [
    "# Make a prediction with weights\n",
    "def predict(row, weights):\n",
    "    activation = -1*threshold\n",
    "    for i in range(len(row)-1):\n",
    "        activation += weights[i] * row[i]\n",
    "    return 1.0 if activation >= 0.0 else 0.0"
   ]
  },
  {
   "cell_type": "code",
   "execution_count": 984,
   "id": "c7801dac",
   "metadata": {},
   "outputs": [
    {
     "name": "stdout",
     "output_type": "stream",
     "text": [
      "desired  0 : actual  0.0\n",
      "desired  0 : actual  1.0\n",
      "desired  0 : actual  1.0\n",
      "desired  1 : actual  1.0\n",
      "desired  0 : actual  1.0\n",
      "desired  0 : actual  1.0\n",
      "desired  0 : actual  1.0\n",
      "desired  0 : actual  1.0\n"
     ]
    }
   ],
   "source": [
    "for row in data:\n",
    "    print(\"desired \",row[-1],\": actual \",predict(row,weights))"
   ]
  },
  {
   "cell_type": "markdown",
   "id": "6d8ce2b8",
   "metadata": {},
   "source": [
    "### 3.4. Adapt Weights"
   ]
  },
  {
   "cell_type": "code",
   "execution_count": 985,
   "id": "3d07f4c6",
   "metadata": {},
   "outputs": [],
   "source": [
    "def adapt_weights(data,weights):\n",
    "    start_time = time.time() # note starting time \n",
    "    i=0\n",
    "    while(i<len(data)):\n",
    "        #print(\"i\",i)\n",
    "        row = data[i]\n",
    "        actual_output = predict(row,weights)\n",
    "\n",
    "        desired_output = row[-1]\n",
    "\n",
    "        #print(row,desired_output,actual_output,weights)\n",
    "\n",
    "        if(desired_output==0 and actual_output==1):\n",
    "            weights = [element1 - gain_term*element2 for (element1, element2) in zip(weights,row[:-1])]\n",
    "            i=0\n",
    "            continue\n",
    "\n",
    "\n",
    "        elif(desired_output==1 and actual_output==0):\n",
    "            weights = [element1 + gain_term*element2 for (element1, element2) in zip(weights,row[:-1])]\n",
    "            i=0\n",
    "            continue\n",
    "        i=i+1\n",
    "    \n",
    "    end_time = time.time()\n",
    "    print(\"training time, \",end_time-start_time,\" seconds\")\n",
    "    print()\n",
    "        \n",
    "    return weights\n",
    "        \n",
    "    \n",
    "    \n",
    "    \n",
    "            \n",
    "    \n",
    "    \n",
    "        \n",
    "        \n",
    "    \n",
    "    "
   ]
  },
  {
   "cell_type": "markdown",
   "id": "18baefb2",
   "metadata": {},
   "source": [
    "## Train from initial sample and Test "
   ]
  },
  {
   "cell_type": "code",
   "execution_count": 986,
   "id": "3ac4dcc0",
   "metadata": {},
   "outputs": [],
   "source": [
    "def predict_acc(train_percent,test_percent):\n",
    "    \n",
    "    train = df.sample(frac = train_percent/100,random_state = 42).values.tolist()\n",
    "    \n",
    "    test = []\n",
    "    for row in data:\n",
    "        if row not in train:\n",
    "            test.append(row)\n",
    "            \n",
    "    \n",
    "    \n",
    "    \n",
    "    weights = np.random.rand(len(train[0])-1)\n",
    "    threshold = 0.5\n",
    "\n",
    "    adapt_weights(train,weights)\n",
    "\n",
    "    cnt = 0\n",
    "\n",
    "    for row in test:\n",
    "\n",
    "        actual_output = predict(row,weights)\n",
    "        desired_output = row[-1]\n",
    "\n",
    "        print(\"de\",desired_output,\"ac\",actual_output)\n",
    "\n",
    "        if(actual_output==desired_output):\n",
    "            cnt+=1\n",
    "\n",
    "    return cnt/len(test)*100.0\n"
   ]
  },
  {
   "cell_type": "markdown",
   "id": "6f1f2b58",
   "metadata": {},
   "source": [
    "### 60-40"
   ]
  },
  {
   "cell_type": "code",
   "execution_count": 987,
   "id": "eab2feb6",
   "metadata": {},
   "outputs": [
    {
     "name": "stdout",
     "output_type": "stream",
     "text": [
      "training time,  0.0  seconds\n",
      "\n",
      "de 1 ac 0.0\n",
      "de 0 ac 1.0\n",
      "de 0 ac 1.0\n"
     ]
    },
    {
     "data": {
      "text/plain": [
       "0.0"
      ]
     },
     "execution_count": 987,
     "metadata": {},
     "output_type": "execute_result"
    }
   ],
   "source": [
    "predict_acc(60,40)"
   ]
  },
  {
   "cell_type": "markdown",
   "id": "964ad8ab",
   "metadata": {},
   "source": [
    "## 70-30"
   ]
  },
  {
   "cell_type": "code",
   "execution_count": 988,
   "id": "2ba6e650",
   "metadata": {},
   "outputs": [
    {
     "name": "stdout",
     "output_type": "stream",
     "text": [
      "training time,  0.0  seconds\n",
      "\n",
      "de 1 ac 1.0\n",
      "de 0 ac 1.0\n"
     ]
    },
    {
     "data": {
      "text/plain": [
       "50.0"
      ]
     },
     "execution_count": 988,
     "metadata": {},
     "output_type": "execute_result"
    }
   ],
   "source": [
    "predict_acc(70,30)"
   ]
  },
  {
   "cell_type": "markdown",
   "id": "0591032b",
   "metadata": {},
   "source": [
    "## 80 - 20"
   ]
  },
  {
   "cell_type": "code",
   "execution_count": 989,
   "id": "7c0bca5a",
   "metadata": {},
   "outputs": [
    {
     "name": "stdout",
     "output_type": "stream",
     "text": [
      "training time,  0.0  seconds\n",
      "\n",
      "de 1 ac 0.0\n",
      "de 0 ac 1.0\n"
     ]
    },
    {
     "data": {
      "text/plain": [
       "0.0"
      ]
     },
     "execution_count": 989,
     "metadata": {},
     "output_type": "execute_result"
    }
   ],
   "source": [
    "predict_acc(80,20)"
   ]
  },
  {
   "cell_type": "markdown",
   "id": "afcd0289",
   "metadata": {},
   "source": [
    "## Train Class Wise and Test"
   ]
  },
  {
   "cell_type": "code",
   "execution_count": 990,
   "id": "488d47c7",
   "metadata": {},
   "outputs": [],
   "source": [
    "def adapt_weights_class_wise(data,weights):\n",
    "    start_time = time.time() # note starting time \n",
    "    i=0\n",
    "    while(i<len(data)):\n",
    "        #print(\"i\",i)\n",
    "        row = data[i]\n",
    "        actual_output = predict(row,weights)\n",
    "\n",
    "        desired_output = row[-1]\n",
    "\n",
    "        #print(row,desired_output,actual_output,weights)\n",
    "\n",
    "        if(desired_output==0 and actual_output==1):\n",
    "            weights = [element1 - gain_term*element2 for (element1, element2) in zip(weights,row[:-1])]\n",
    "            i=0\n",
    "            continue\n",
    "\n",
    "\n",
    "        elif(desired_output==1 and actual_output==0):\n",
    "            weights = [element1 + gain_term*element2 for (element1, element2) in zip(weights,row[:-1])]\n",
    "            i=len(data)//2\n",
    "            continue\n",
    "        i=i+1\n",
    "    \n",
    "    end_time = time.time()\n",
    "    print(\"training time, \",end_time-start_time,\" seconds\")\n",
    "    print()\n",
    "    \n",
    "    print(\"Batch wise weight, \",weights)\n",
    "    print()\n",
    "    \n",
    "    i=0\n",
    "    while(i<len(data)):\n",
    "        #print(\"i\",i)\n",
    "        row = data[i]\n",
    "        actual_output = predict(row,weights)\n",
    "\n",
    "        desired_output = row[-1]\n",
    "\n",
    "        #print(row,desired_output,actual_output,weights)\n",
    "\n",
    "        if(desired_output==0 and actual_output==1):\n",
    "            weights = [element1 - gain_term*element2 for (element1, element2) in zip(weights,row[:-1])]\n",
    "            i=0\n",
    "            continue\n",
    "\n",
    "\n",
    "        elif(desired_output==1 and actual_output==0):\n",
    "            weights = [element1 + gain_term*element2 for (element1, element2) in zip(weights,row[:-1])]\n",
    "            i=0\n",
    "            continue\n",
    "        i=i+1\n",
    "    \n",
    "    print(\"Total updated weight, \",weights)\n",
    "    print()\n",
    "    return weights"
   ]
  },
  {
   "cell_type": "code",
   "execution_count": 991,
   "id": "1ca2ed2a",
   "metadata": {},
   "outputs": [],
   "source": [
    "def predict_acc(train_percent,test_percent):\n",
    "    \n",
    "    train = df.sample(frac = train_percent/100,random_state = 200).values.tolist()\n",
    "    \n",
    "    test = []\n",
    "    for row in data:\n",
    "        if row not in train:\n",
    "            test.append(row)\n",
    "            \n",
    "    \n",
    "    \n",
    "    \n",
    "    weights = np.random.rand(len(train[0])-1)\n",
    "    threshold = 0.5\n",
    "\n",
    "    adapt_weights_class_wise(train,weights)\n",
    "\n",
    "    cnt = 0\n",
    "\n",
    "    for row in test:\n",
    "\n",
    "        actual_output = predict(row,weights)\n",
    "        desired_output = row[-1]\n",
    "\n",
    "        print(\"de\",desired_output,\"ac\",actual_output)\n",
    "\n",
    "        if(actual_output==desired_output):\n",
    "            cnt+=1\n",
    "\n",
    "    return cnt/len(test)*100.0\n"
   ]
  },
  {
   "cell_type": "code",
   "execution_count": 992,
   "id": "aad6e0c4",
   "metadata": {},
   "outputs": [
    {
     "name": "stdout",
     "output_type": "stream",
     "text": [
      "training time,  0.0  seconds\n",
      "\n",
      "Batch wise weight,  [-1.4926323527583065, 0.5018895137188099, 0.8184837184046853]\n",
      "\n",
      "Total updated weight,  [-1.4926323527583065, 0.5018895137188099, 0.8184837184046853]\n",
      "\n",
      "de 0 ac 0.0\n",
      "de 0 ac 1.0\n",
      "de 0 ac 1.0\n"
     ]
    },
    {
     "data": {
      "text/plain": [
       "33.33333333333333"
      ]
     },
     "execution_count": 992,
     "metadata": {},
     "output_type": "execute_result"
    }
   ],
   "source": [
    "predict_acc(60,40)"
   ]
  },
  {
   "cell_type": "code",
   "execution_count": 993,
   "id": "80e4f089",
   "metadata": {},
   "outputs": [
    {
     "name": "stdout",
     "output_type": "stream",
     "text": [
      "training time,  0.0  seconds\n",
      "\n",
      "Batch wise weight,  [-1.7992172085022702, 0.47464665754388713, 1.5835851988797573]\n",
      "\n",
      "Total updated weight,  [-1.7992172085022702, 0.47464665754388713, 1.5835851988797573]\n",
      "\n",
      "de 0 ac 1.0\n",
      "de 0 ac 0.0\n"
     ]
    },
    {
     "data": {
      "text/plain": [
       "50.0"
      ]
     },
     "execution_count": 993,
     "metadata": {},
     "output_type": "execute_result"
    }
   ],
   "source": [
    "predict_acc(70,30)"
   ]
  },
  {
   "cell_type": "code",
   "execution_count": 994,
   "id": "6d504c58",
   "metadata": {},
   "outputs": [
    {
     "name": "stdout",
     "output_type": "stream",
     "text": [
      "training time,  0.0  seconds\n",
      "\n",
      "Batch wise weight,  [-1.7196864557100033, 1.3171991993141738, 0.8539180277632187]\n",
      "\n",
      "Total updated weight,  [-1.7196864557100033, 1.3171991993141738, 0.8539180277632187]\n",
      "\n",
      "de 0 ac 1.0\n",
      "de 0 ac 0.0\n"
     ]
    },
    {
     "data": {
      "text/plain": [
       "50.0"
      ]
     },
     "execution_count": 994,
     "metadata": {},
     "output_type": "execute_result"
    }
   ],
   "source": [
    "predict_acc(80,20)"
   ]
  }
 ],
 "metadata": {
  "kernelspec": {
   "display_name": "Python 3 (ipykernel)",
   "language": "python",
   "name": "python3"
  },
  "language_info": {
   "codemirror_mode": {
    "name": "ipython",
    "version": 3
   },
   "file_extension": ".py",
   "mimetype": "text/x-python",
   "name": "python",
   "nbconvert_exporter": "python",
   "pygments_lexer": "ipython3",
   "version": "3.9.5"
  }
 },
 "nbformat": 4,
 "nbformat_minor": 5
}
